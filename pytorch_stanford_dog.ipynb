{
 "cells": [
  {
   "cell_type": "code",
   "execution_count": 1,
   "metadata": {
    "executionInfo": {
     "elapsed": 1871,
     "status": "ok",
     "timestamp": 1604918170759,
     "user": {
      "displayName": "Tienyi Wu",
      "photoUrl": "https://lh3.googleusercontent.com/a-/AOh14GiMdpipjpiBUjDJhfrjtueROouuyJxHI5WNbix1xg=s64",
      "userId": "11525537157203828804"
     },
     "user_tz": -480
    },
    "id": "FOpdwyuoT9dj"
   },
   "outputs": [],
   "source": [
    "import os, torch, torchvision, random\n",
    "import pandas as pd\n",
    "import numpy as np\n",
    "import torch.nn as nn\n",
    "import matplotlib.pyplot as plt\n",
    "from PIL import Image\n",
    "\n",
    "import torch.nn.functional as F\n",
    "import torchvision.transforms as transforms\n",
    "import torchvision.models as models\n",
    "from torch.utils.data import Dataset, random_split, DataLoader\n",
    "from torchvision.datasets import ImageFolder\n",
    "from torchvision import models\n",
    "from torch import optim\n",
    "from torchsummary import summary\n",
    "\n",
    "import time"
   ]
  },
  {
   "cell_type": "code",
   "execution_count": 2,
   "metadata": {
    "executionInfo": {
     "elapsed": 2248,
     "status": "ok",
     "timestamp": 1604918178993,
     "user": {
      "displayName": "Tienyi Wu",
      "photoUrl": "https://lh3.googleusercontent.com/a-/AOh14GiMdpipjpiBUjDJhfrjtueROouuyJxHI5WNbix1xg=s64",
      "userId": "11525537157203828804"
     },
     "user_tz": -480
    },
    "id": "fEAX25UQT9dp"
   },
   "outputs": [
    {
     "data": {
      "text/plain": [
       "device(type='cuda')"
      ]
     },
     "execution_count": 2,
     "metadata": {},
     "output_type": "execute_result"
    }
   ],
   "source": [
    "device = torch.device('cuda' if torch.cuda.is_available() else 'cpu')\n",
    "device"
   ]
  },
  {
   "cell_type": "code",
   "execution_count": 3,
   "metadata": {
    "executionInfo": {
     "elapsed": 1607,
     "status": "ok",
     "timestamp": 1604918184294,
     "user": {
      "displayName": "Tienyi Wu",
      "photoUrl": "https://lh3.googleusercontent.com/a-/AOh14GiMdpipjpiBUjDJhfrjtueROouuyJxHI5WNbix1xg=s64",
      "userId": "11525537157203828804"
     },
     "user_tz": -480
    },
    "id": "0C9o9DyhT9du"
   },
   "outputs": [],
   "source": [
    "# 實作一個可以讀取 stanford dog (mini) 的 Pytorch dataset\n",
    "\n",
    "class DogDataset(Dataset):\n",
    "    \n",
    "    def __init__(self, filenames, labels, transform):\n",
    "        \n",
    "        self.filenames = filenames    # 資料集的所有檔名\n",
    "        self.labels = labels          # 影像的標籤\n",
    "        self.transform = transform    # 影像的轉換方式\n",
    " \n",
    "    def __len__(self):\n",
    "        \n",
    "        return len(self.filenames)    # return DataSet 長度\n",
    " \n",
    "    def __getitem__(self, idx):       # idx: Inedx of filenames\n",
    "        \n",
    "        image = Image.open(self.filenames[idx]).convert('RGB')\n",
    "        image = self.transform(image) # Transform image\n",
    "        label = np.array(self.labels[idx])\n",
    "                \n",
    "        return image, label           # return 模型訓練所需的資訊\n"
   ]
  },
  {
   "cell_type": "markdown",
   "metadata": {},
   "source": [
    "## 定義 Normalize 以及 Transform 的參數"
   ]
  },
  {
   "cell_type": "code",
   "execution_count": null,
   "metadata": {},
   "outputs": [],
   "source": [
    "normalize = transforms.Normalize(mean = [0.485, 0.456, 0.406], std = [0.229, 0.224, 0.225])\n",
    "\n",
    "# Transformer\n",
    "train_transformer = transforms.Compose([\n",
    "    transforms.Resize(256),\n",
    "    transforms.RandomResizedCrop(224),\n",
    "    transforms.RandomHorizontalFlip(),\n",
    "    transforms.ToTensor(),\n",
    "    normalize\n",
    "])\n",
    " \n",
    "test_transformer = transforms.Compose([\n",
    "    transforms.Resize(224),\n",
    "    transforms.CenterCrop(224),\n",
    "    transforms.ToTensor(),\n",
    "    normalize\n",
    "])"
   ]
  },
  {
   "cell_type": "markdown",
   "metadata": {},
   "source": [
    "## 將每一個類別以 8 : 2 的比例分割成 Training data 和 Testing data 傳至 dataloader"
   ]
  },
  {
   "cell_type": "code",
   "execution_count": 4,
   "metadata": {
    "executionInfo": {
     "elapsed": 1849,
     "status": "ok",
     "timestamp": 1604918186785,
     "user": {
      "displayName": "Tienyi Wu",
      "photoUrl": "https://lh3.googleusercontent.com/a-/AOh14GiMdpipjpiBUjDJhfrjtueROouuyJxHI5WNbix1xg=s64",
      "userId": "11525537157203828804"
     },
     "user_tz": -480
    },
    "id": "8fKkGY9wT9dx"
   },
   "outputs": [],
   "source": [
    "def split_Train_Val_Data(data_dir):\n",
    "    \n",
    "    dataset = ImageFolder(data_dir) \n",
    "    \n",
    "    # 建立 N 類的 list\n",
    "    character = [[] for i in range(len(dataset.classes))]\n",
    "    # print(character)\n",
    "    \n",
    "    # 將每一類的檔名依序存入相對應的 list\n",
    "    for x, y in dataset.samples:\n",
    "        character[y].append(x)\n",
    "      \n",
    "    train_inputs, test_inputs = [], []\n",
    "    train_labels, test_labels = [], []\n",
    "    \n",
    "    for i, data in enumerate(character): # 讀取每個類別中所有的檔名 (i: label, data: filename)\n",
    "        \n",
    "        np.random.seed(42)\n",
    "        np.random.shuffle(data)\n",
    "            \n",
    "        # -------------------------------------------\n",
    "        # 將每一類都以 8:2 的比例分成訓練資料和測試資料\n",
    "        # -------------------------------------------\n",
    "        \n",
    "        num_sample_train = int(len(data) * 0.8)\n",
    "        num_sample_test = len(data) - num_sample_train\n",
    "        \n",
    "        # print(str(i) + ': ' + str(len(data)) + ' | ' + str(num_sample_train) + ' | ' + str(num_sample_test))\n",
    "        \n",
    "        for x in data[:num_sample_train] : # 前 80% 資料存進 training list\n",
    "            train_inputs.append(x)\n",
    "            train_labels.append(i)\n",
    "            \n",
    "        for x in data[num_sample_train:] : # 後 20% 資料存進 testing list\n",
    "            test_inputs.append(x)\n",
    "            test_labels.append(i)\n",
    "\n",
    "    train_dataloader = DataLoader(DogDataset(train_inputs, train_labels, train_transformer),\n",
    "                                  batch_size = batch_size, shuffle = True)\n",
    "    test_dataloader = DataLoader(DogDataset(test_inputs, test_labels, test_transformer),\n",
    "                                  batch_size = batch_size, shuffle = False)\n",
    " \n",
    "    return train_dataloader, test_dataloader"
   ]
  },
  {
   "cell_type": "markdown",
   "metadata": {
    "id": "ThRBttTiT9d0"
   },
   "source": [
    "### Part 2: 建立 CNN Model"
   ]
  },
  {
   "cell_type": "markdown",
   "metadata": {
    "id": "ydhHfxVET9d8"
   },
   "source": [
    "## 訓練參數設定"
   ]
  },
  {
   "cell_type": "code",
   "execution_count": null,
   "metadata": {},
   "outputs": [],
   "source": [
    "batch_size = 32\n",
    "lr = 1e-3\n",
    "epochs = 50\n",
    "\n",
    "data_dir = 'stanford_dog'"
   ]
  },
  {
   "cell_type": "markdown",
   "metadata": {
    "executionInfo": {
     "elapsed": 1366,
     "status": "ok",
     "timestamp": 1604918734402,
     "user": {
      "displayName": "Tienyi Wu",
      "photoUrl": "https://lh3.googleusercontent.com/a-/AOh14GiMdpipjpiBUjDJhfrjtueROouuyJxHI5WNbix1xg=s64",
      "userId": "11525537157203828804"
     },
     "user_tz": -480
    },
    "id": "u2OEGrJuT9d9"
   },
   "source": [
    "## 利用 Pytorch 內建的 CNN model 來進行訓練且 torchsummary 來印出模型的架構資訊"
   ]
  },
  {
   "cell_type": "code",
   "execution_count": 6,
   "metadata": {
    "colab": {
     "base_uri": "https://localhost:8080/"
    },
    "executionInfo": {
     "elapsed": 2835,
     "status": "ok",
     "timestamp": 1604918739615,
     "user": {
      "displayName": "Tienyi Wu",
      "photoUrl": "https://lh3.googleusercontent.com/a-/AOh14GiMdpipjpiBUjDJhfrjtueROouuyJxHI5WNbix1xg=s64",
      "userId": "11525537157203828804"
     },
     "user_tz": -480
    },
    "id": "nQEpdEGuT9eC",
    "outputId": "f8a7aed7-2c45-4485-9009-69ec1c8da2cd"
   },
   "outputs": [
    {
     "name": "stdout",
     "output_type": "stream",
     "text": [
      "----------------------------------------------------------------\n",
      "        Layer (type)               Output Shape         Param #\n",
      "================================================================\n",
      "            Conv2d-1         [-1, 64, 244, 244]           1,792\n",
      "              ReLU-2         [-1, 64, 244, 244]               0\n",
      "            Conv2d-3         [-1, 64, 244, 244]          36,928\n",
      "              ReLU-4         [-1, 64, 244, 244]               0\n",
      "         MaxPool2d-5         [-1, 64, 122, 122]               0\n",
      "            Conv2d-6        [-1, 128, 122, 122]          73,856\n",
      "              ReLU-7        [-1, 128, 122, 122]               0\n",
      "            Conv2d-8        [-1, 128, 122, 122]         147,584\n",
      "              ReLU-9        [-1, 128, 122, 122]               0\n",
      "        MaxPool2d-10          [-1, 128, 61, 61]               0\n",
      "           Conv2d-11          [-1, 256, 61, 61]         295,168\n",
      "             ReLU-12          [-1, 256, 61, 61]               0\n",
      "           Conv2d-13          [-1, 256, 61, 61]         590,080\n",
      "             ReLU-14          [-1, 256, 61, 61]               0\n",
      "           Conv2d-15          [-1, 256, 61, 61]         590,080\n",
      "             ReLU-16          [-1, 256, 61, 61]               0\n",
      "        MaxPool2d-17          [-1, 256, 30, 30]               0\n",
      "           Conv2d-18          [-1, 512, 30, 30]       1,180,160\n",
      "             ReLU-19          [-1, 512, 30, 30]               0\n",
      "           Conv2d-20          [-1, 512, 30, 30]       2,359,808\n",
      "             ReLU-21          [-1, 512, 30, 30]               0\n",
      "           Conv2d-22          [-1, 512, 30, 30]       2,359,808\n",
      "             ReLU-23          [-1, 512, 30, 30]               0\n",
      "        MaxPool2d-24          [-1, 512, 15, 15]               0\n",
      "           Conv2d-25          [-1, 512, 15, 15]       2,359,808\n",
      "             ReLU-26          [-1, 512, 15, 15]               0\n",
      "           Conv2d-27          [-1, 512, 15, 15]       2,359,808\n",
      "             ReLU-28          [-1, 512, 15, 15]               0\n",
      "           Conv2d-29          [-1, 512, 15, 15]       2,359,808\n",
      "             ReLU-30          [-1, 512, 15, 15]               0\n",
      "        MaxPool2d-31            [-1, 512, 7, 7]               0\n",
      "AdaptiveAvgPool2d-32            [-1, 512, 7, 7]               0\n",
      "           Linear-33                 [-1, 4096]     102,764,544\n",
      "             ReLU-34                 [-1, 4096]               0\n",
      "          Dropout-35                 [-1, 4096]               0\n",
      "           Linear-36                 [-1, 4096]      16,781,312\n",
      "             ReLU-37                 [-1, 4096]               0\n",
      "          Dropout-38                 [-1, 4096]               0\n",
      "           Linear-39                 [-1, 1000]       4,097,000\n",
      "================================================================\n",
      "Total params: 138,357,544\n",
      "Trainable params: 138,357,544\n",
      "Non-trainable params: 0\n",
      "----------------------------------------------------------------\n",
      "Input size (MB): 0.68\n",
      "Forward/backward pass size (MB): 258.51\n",
      "Params size (MB): 527.79\n",
      "Estimated Total Size (MB): 786.98\n",
      "----------------------------------------------------------------\n"
     ]
    }
   ],
   "source": [
    "# 2.3. 利用 Pytorch 內建的 CNN model 來進行訓練且 torchsummary 來印出模型的架構資訊\n",
    "\n",
    "train_dataloader, test_dataloader = split_Train_Val_Data(data_dir)\n",
    "\n",
    "C = models.vgg16(pretrained=True).to(device)     # 使用內建的 model 或是自行設計的 model\n",
    "optimizer_C = optim.SGD(C.parameters(), lr = lr) # 選擇你想用的 optimizer\n",
    "\n",
    "summary(C, (3, 244, 244))                        # 利用 torchsummary 的 summary package 印出模型資訊，input size: (3 * 224 * 224)\n",
    "\n",
    "# Loss function\n",
    "criterion = nn.CrossEntropyLoss()                # 選擇想用的 loss function"
   ]
  },
  {
   "cell_type": "markdown",
   "metadata": {},
   "source": [
    "## 儲存訓練資訊的 List"
   ]
  },
  {
   "cell_type": "code",
   "execution_count": 7,
   "metadata": {
    "executionInfo": {
     "elapsed": 1117,
     "status": "ok",
     "timestamp": 1604918742550,
     "user": {
      "displayName": "Tienyi Wu",
      "photoUrl": "https://lh3.googleusercontent.com/a-/AOh14GiMdpipjpiBUjDJhfrjtueROouuyJxHI5WNbix1xg=s64",
      "userId": "11525537157203828804"
     },
     "user_tz": -480
    },
    "id": "wxA0HEzDT9eL"
   },
   "outputs": [],
   "source": [
    "loss_epoch_C = []\n",
    "train_acc, test_acc = [], []\n",
    "best_acc, best_auc = 0.0, 0.0"
   ]
  },
  {
   "cell_type": "markdown",
   "metadata": {
    "id": "Xq2kX6h6T9ea"
   },
   "source": [
    "## 實作模型訓練和測試模型效能"
   ]
  },
  {
   "cell_type": "code",
   "execution_count": 8,
   "metadata": {
    "colab": {
     "base_uri": "https://localhost:8080/"
    },
    "executionInfo": {
     "elapsed": 5578965,
     "status": "ok",
     "timestamp": 1604924322773,
     "user": {
      "displayName": "Tienyi Wu",
      "photoUrl": "https://lh3.googleusercontent.com/a-/AOh14GiMdpipjpiBUjDJhfrjtueROouuyJxHI5WNbix1xg=s64",
      "userId": "11525537157203828804"
     },
     "user_tz": -480
    },
    "id": "pdfw16lST9eb",
    "outputId": "a7e05587-240a-4f9a-9738-2040e6727fe2"
   },
   "outputs": [
    {
     "name": "stdout",
     "output_type": "stream",
     "text": [
      "epoch: 1 / 50\n",
      "Training epoch: 1 / loss_C: 5.587 | acc: 0.014\n",
      "Testing acc: 0.020\n",
      "Cost 122.854(secs)\n",
      "epoch: 2 / 50\n",
      "Training epoch: 2 / loss_C: 4.714 | acc: 0.040\n",
      "Testing acc: 0.041\n",
      "Cost 122.754(secs)\n",
      "epoch: 3 / 50\n",
      "Training epoch: 3 / loss_C: 4.258 | acc: 0.074\n",
      "Testing acc: 0.106\n",
      "Cost 122.786(secs)\n",
      "epoch: 4 / 50\n",
      "Training epoch: 4 / loss_C: 3.823 | acc: 0.120\n",
      "Testing acc: 0.144\n",
      "Cost 122.284(secs)\n",
      "epoch: 5 / 50\n",
      "Training epoch: 5 / loss_C: 3.437 | acc: 0.179\n",
      "Testing acc: 0.222\n",
      "Cost 121.508(secs)\n",
      "epoch: 6 / 50\n",
      "Training epoch: 6 / loss_C: 3.119 | acc: 0.224\n",
      "Testing acc: 0.398\n",
      "Cost 121.548(secs)\n",
      "epoch: 7 / 50\n",
      "Training epoch: 7 / loss_C: 2.878 | acc: 0.266\n",
      "Testing acc: 0.429\n",
      "Cost 121.744(secs)\n",
      "epoch: 8 / 50\n",
      "Training epoch: 8 / loss_C: 2.642 | acc: 0.315\n",
      "Testing acc: 0.335\n",
      "Cost 121.537(secs)\n",
      "epoch: 9 / 50\n",
      "Training epoch: 9 / loss_C: 2.466 | acc: 0.344\n",
      "Testing acc: 0.521\n",
      "Cost 121.493(secs)\n",
      "epoch: 10 / 50\n",
      "Training epoch: 10 / loss_C: 2.356 | acc: 0.376\n",
      "Testing acc: 0.547\n",
      "Cost 121.448(secs)\n",
      "epoch: 11 / 50\n",
      "Training epoch: 11 / loss_C: 2.226 | acc: 0.400\n",
      "Testing acc: 0.343\n",
      "Cost 121.469(secs)\n",
      "epoch: 12 / 50\n",
      "Training epoch: 12 / loss_C: 2.130 | acc: 0.424\n",
      "Testing acc: 0.605\n",
      "Cost 121.519(secs)\n",
      "epoch: 13 / 50\n",
      "Training epoch: 13 / loss_C: 2.023 | acc: 0.448\n",
      "Testing acc: 0.624\n",
      "Cost 121.128(secs)\n",
      "epoch: 14 / 50\n",
      "Training epoch: 14 / loss_C: 1.964 | acc: 0.466\n",
      "Testing acc: 0.600\n",
      "Cost 121.232(secs)\n",
      "epoch: 15 / 50\n",
      "Training epoch: 15 / loss_C: 1.894 | acc: 0.478\n",
      "Testing acc: 0.665\n",
      "Cost 121.431(secs)\n",
      "epoch: 16 / 50\n",
      "Training epoch: 16 / loss_C: 1.826 | acc: 0.499\n",
      "Testing acc: 0.670\n",
      "Cost 121.438(secs)\n",
      "epoch: 17 / 50\n",
      "Training epoch: 17 / loss_C: 1.784 | acc: 0.507\n",
      "Testing acc: 0.657\n",
      "Cost 121.482(secs)\n",
      "epoch: 18 / 50\n",
      "Training epoch: 18 / loss_C: 1.740 | acc: 0.520\n",
      "Testing acc: 0.674\n",
      "Cost 121.684(secs)\n",
      "epoch: 19 / 50\n",
      "Training epoch: 19 / loss_C: 1.717 | acc: 0.525\n",
      "Testing acc: 0.643\n",
      "Cost 121.627(secs)\n",
      "epoch: 20 / 50\n",
      "Training epoch: 20 / loss_C: 1.673 | acc: 0.539\n",
      "Testing acc: 0.659\n",
      "Cost 121.643(secs)\n",
      "epoch: 21 / 50\n",
      "Training epoch: 21 / loss_C: 1.637 | acc: 0.551\n",
      "Testing acc: 0.687\n",
      "Cost 121.564(secs)\n",
      "epoch: 22 / 50\n",
      "Training epoch: 22 / loss_C: 1.571 | acc: 0.562\n",
      "Testing acc: 0.714\n",
      "Cost 121.233(secs)\n",
      "epoch: 23 / 50\n",
      "Training epoch: 23 / loss_C: 1.547 | acc: 0.574\n",
      "Testing acc: 0.708\n",
      "Cost 121.262(secs)\n",
      "epoch: 24 / 50\n",
      "Training epoch: 24 / loss_C: 1.539 | acc: 0.574\n",
      "Testing acc: 0.720\n",
      "Cost 121.214(secs)\n",
      "epoch: 25 / 50\n",
      "Training epoch: 25 / loss_C: 1.501 | acc: 0.580\n",
      "Testing acc: 0.695\n",
      "Cost 121.261(secs)\n",
      "epoch: 26 / 50\n",
      "Training epoch: 26 / loss_C: 1.498 | acc: 0.586\n",
      "Testing acc: 0.675\n",
      "Cost 121.485(secs)\n",
      "epoch: 27 / 50\n",
      "Training epoch: 27 / loss_C: 1.472 | acc: 0.594\n",
      "Testing acc: 0.711\n",
      "Cost 121.330(secs)\n",
      "epoch: 28 / 50\n",
      "Training epoch: 28 / loss_C: 1.393 | acc: 0.606\n",
      "Testing acc: 0.723\n",
      "Cost 121.469(secs)\n",
      "epoch: 29 / 50\n",
      "Training epoch: 29 / loss_C: 1.397 | acc: 0.607\n",
      "Testing acc: 0.731\n",
      "Cost 121.461(secs)\n",
      "epoch: 30 / 50\n",
      "Training epoch: 30 / loss_C: 1.389 | acc: 0.611\n",
      "Testing acc: 0.743\n",
      "Cost 121.506(secs)\n",
      "epoch: 31 / 50\n",
      "Training epoch: 31 / loss_C: 1.371 | acc: 0.615\n",
      "Testing acc: 0.568\n",
      "Cost 121.230(secs)\n",
      "epoch: 32 / 50\n",
      "Training epoch: 32 / loss_C: 1.374 | acc: 0.611\n",
      "Testing acc: 0.656\n",
      "Cost 121.754(secs)\n",
      "epoch: 33 / 50\n",
      "Training epoch: 33 / loss_C: 1.342 | acc: 0.621\n",
      "Testing acc: 0.732\n",
      "Cost 121.570(secs)\n",
      "epoch: 34 / 50\n",
      "Training epoch: 34 / loss_C: 1.335 | acc: 0.628\n",
      "Testing acc: 0.750\n",
      "Cost 122.348(secs)\n",
      "epoch: 35 / 50\n",
      "Training epoch: 35 / loss_C: 1.322 | acc: 0.632\n",
      "Testing acc: 0.747\n",
      "Cost 133.441(secs)\n",
      "epoch: 36 / 50\n",
      "Training epoch: 36 / loss_C: 1.303 | acc: 0.635\n",
      "Testing acc: 0.730\n",
      "Cost 122.604(secs)\n",
      "epoch: 37 / 50\n",
      "Training epoch: 37 / loss_C: 1.270 | acc: 0.639\n",
      "Testing acc: 0.738\n",
      "Cost 122.852(secs)\n",
      "epoch: 38 / 50\n",
      "Training epoch: 38 / loss_C: 1.269 | acc: 0.645\n",
      "Testing acc: 0.739\n",
      "Cost 132.728(secs)\n",
      "epoch: 39 / 50\n",
      "Training epoch: 39 / loss_C: 1.266 | acc: 0.645\n",
      "Testing acc: 0.758\n",
      "Cost 157.259(secs)\n",
      "epoch: 40 / 50\n",
      "Training epoch: 40 / loss_C: 1.247 | acc: 0.648\n",
      "Testing acc: 0.754\n",
      "Cost 324.907(secs)\n",
      "epoch: 41 / 50\n",
      "Training epoch: 41 / loss_C: 1.231 | acc: 0.653\n",
      "Testing acc: 0.744\n",
      "Cost 135.340(secs)\n",
      "epoch: 42 / 50\n",
      "Training epoch: 42 / loss_C: 1.207 | acc: 0.656\n",
      "Testing acc: 0.759\n",
      "Cost 309.831(secs)\n",
      "epoch: 43 / 50\n",
      "Training epoch: 43 / loss_C: 1.213 | acc: 0.659\n",
      "Testing acc: 0.712\n",
      "Cost 122.876(secs)\n",
      "epoch: 44 / 50\n",
      "Training epoch: 44 / loss_C: 1.200 | acc: 0.660\n",
      "Testing acc: 0.762\n",
      "Cost 186.699(secs)\n",
      "epoch: 45 / 50\n",
      "Training epoch: 45 / loss_C: 1.186 | acc: 0.667\n",
      "Testing acc: 0.761\n",
      "Cost 121.912(secs)\n",
      "epoch: 46 / 50\n",
      "Training epoch: 46 / loss_C: 1.175 | acc: 0.668\n",
      "Testing acc: 0.766\n",
      "Cost 122.414(secs)\n",
      "epoch: 47 / 50\n",
      "Training epoch: 47 / loss_C: 1.162 | acc: 0.673\n",
      "Testing acc: 0.752\n",
      "Cost 122.398(secs)\n",
      "epoch: 48 / 50\n",
      "Training epoch: 48 / loss_C: 1.149 | acc: 0.669\n",
      "Testing acc: 0.752\n",
      "Cost 121.516(secs)\n",
      "epoch: 49 / 50\n",
      "Training epoch: 49 / loss_C: 1.157 | acc: 0.675\n",
      "Testing acc: 0.768\n",
      "Cost 121.589(secs)\n",
      "epoch: 50 / 50\n",
      "Training epoch: 50 / loss_C: 1.147 | acc: 0.678\n",
      "Testing acc: 0.691\n",
      "Cost 121.660(secs)\n"
     ]
    }
   ],
   "source": [
    "if __name__ == '__main__':    \n",
    "    \n",
    "    for epoch in range(epochs):\n",
    "        \n",
    "        start_time = time.time()\n",
    "        iter = 0\n",
    "        correct_train, total_train = 0, 0\n",
    "        correct_test, total_test = 0, 0\n",
    "        train_loss_C = 0.0\n",
    "\n",
    "        C.train() # 設定 train 或 eval\n",
    "      \n",
    "        print('epoch: ' + str(epoch + 1) + ' / ' + str(epochs))  \n",
    "        \n",
    "        # ---------------------------\n",
    "        # Training Stage\n",
    "        # ---------------------------\n",
    "        \n",
    "        for i, (x, label) in enumerate(train_dataloader) :\n",
    "                     \n",
    "            x, label = x.to(device), label.to(device)\n",
    "                        \n",
    "            optimizer_C.zero_grad()                         # 清空梯度\n",
    "\n",
    "            train_output = C(x)                             # 將訓練資料輸入至模型進行訓練\n",
    "            train_loss = criterion(train_output, label)     # 計算 loss\n",
    "            \n",
    "            train_loss.backward()                           # 將 loss 反向傳播\n",
    "            optimizer_C.step()                              # 更新權重\n",
    "            \n",
    "            \n",
    "            # 計算訓練資料的準確度 (correct_train / total_train)\n",
    "            _, predicted = torch.max(train_output.data, 1)\n",
    "            total_train += label.size(0)\n",
    "            correct_train += (predicted == label).sum()\n",
    "\n",
    "            train_loss_C += train_loss.item()\n",
    "            iter += 1\n",
    "                    \n",
    "        print('Training epoch: %d / loss_C: %.3f | acc: %.3f' % \\\n",
    "              (epoch + 1, train_loss_C / iter, correct_train / total_train))\n",
    "\n",
    "        \n",
    "        # --------------------------\n",
    "        # Testing Stage\n",
    "        # --------------------------\n",
    "        \n",
    "        C.eval() # 設定 train 或 eval\n",
    "          \n",
    "        for i, (x, label) in enumerate(test_dataloader) :\n",
    "          \n",
    "            with torch.no_grad():                           # 測試階段不需要求梯度\n",
    "                x, label = x.to(device), label.to(device)\n",
    "                \n",
    "                test_output = C(x)                          # 將測試資料輸入至模型進行測試\n",
    "                test_loss = criterion(test_output, label)   # 計算 loss\n",
    "                \n",
    "                \n",
    "                # 計算測試資料的準確度 (correct_test / total_test)\n",
    "                _, predicted = torch.max(test_output.data, 1)\n",
    "                total_test += label.size(0)\n",
    "                correct_test += (predicted == label).sum()\n",
    "        \n",
    "        print('Testing acc: %.3f' % (correct_test / total_test))\n",
    "                                     \n",
    "        train_acc.append(100 * (correct_train / total_train).cpu()) # training accuracy\n",
    "        test_acc.append(100 * (correct_test / total_test).cpu())    # testing accuracy\n",
    "        loss_epoch_C.append(train_loss_C / iter)                    # loss \n",
    "\n",
    "        end_time = time.time()\n",
    "        print('Cost %.3f(secs)' % (end_time - start_time))\n",
    "    "
   ]
  },
  {
   "cell_type": "markdown",
   "metadata": {
    "id": "jeWamGQ5T9ef"
   },
   "source": [
    "## 將每一個 epoch 的 Loss 以及 Training / Testing accuracy 紀錄下來並繪製成圖。"
   ]
  },
  {
   "cell_type": "code",
   "execution_count": 9,
   "metadata": {
    "colab": {
     "base_uri": "https://localhost:8080/",
     "height": 573
    },
    "executionInfo": {
     "elapsed": 1674,
     "status": "ok",
     "timestamp": 1604924647282,
     "user": {
      "displayName": "Tienyi Wu",
      "photoUrl": "https://lh3.googleusercontent.com/a-/AOh14GiMdpipjpiBUjDJhfrjtueROouuyJxHI5WNbix1xg=s64",
      "userId": "11525537157203828804"
     },
     "user_tz": -480
    },
    "id": "IETxfpqcT9eg",
    "outputId": "6a0f9ceb-405b-4de6-954b-4a417fd3e00f"
   },
   "outputs": [
    {
     "data": {
      "image/png": "[encoded data removed]",
      "text/plain": [
       "<Figure size 432x288 with 1 Axes>"
      ]
     },
     "metadata": {
      "needs_background": "light"
     },
     "output_type": "display_data"
    },
    {
     "data": {
      "image/png": "[encoded data removed]",
      "text/plain": [
       "<Figure size 432x288 with 1 Axes>"
      ]
     },
     "metadata": {
      "needs_background": "light"
     },
     "output_type": "display_data"
    }
   ],
   "source": [
    "fig_dir = './fig/'\n",
    "if not os.path.exists(fig_dir):\n",
    "    os.makedirs(fig_dir)\n",
    "\n",
    "plt.figure()\n",
    "plt.plot(list(range(epochs)), loss_epoch_C) # plot your loss\n",
    "plt.title('Training Loss')\n",
    "plt.ylabel('loss'), plt.xlabel('epoch')\n",
    "plt.legend(['loss_C'], loc = 'upper left')\n",
    "plt.savefig(fig_dir + 'loss.png')\n",
    "plt.show()\n",
    "\n",
    "plt.figure()\n",
    "plt.plot(list(range(epochs)), train_acc)    # plot your training accuracy\n",
    "plt.plot(list(range(epochs)), test_acc)     # plot your testing accuracy\n",
    "plt.title('Training acc')\n",
    "plt.ylabel('acc (%)'), plt.xlabel('epoch')\n",
    "plt.legend(['training acc', 'testing acc'], loc = 'upper left')\n",
    "plt.savefig(fig_dir + 'acc.png')\n",
    "plt.show()"
   ]
  },
  {
   "cell_type": "code",
   "execution_count": null,
   "metadata": {
    "id": "9Qn6_neZT9ei"
   },
   "outputs": [],
   "source": []
  }
 ],
 "metadata": {
  "accelerator": "GPU",
  "colab": {
   "name": "HW3.ipynb",
   "provenance": []
  },
  "interpreter": {
   "hash": "e7370f93d1d0cde622a1f8e1c04877d8463912d04d973331ad4851f04de6915a"
  },
  "kernelspec": {
   "display_name": "Python 3.8.10 64-bit",
   "name": "python3"
  },
  "language_info": {
   "codemirror_mode": {
    "name": "ipython",
    "version": 3
   },
   "file_extension": ".py",
   "mimetype": "text/x-python",
   "name": "python",
   "nbconvert_exporter": "python",
   "pygments_lexer": "ipython3",
   "version": "3.8.10"
  }
 },
 "nbformat": 4,
 "nbformat_minor": 1
}
